{
  "cells": [
    {
      "cell_type": "markdown",
      "id": "5ffb93ae",
      "metadata": {
        "id": "5ffb93ae"
      },
      "source": [
        "# Q1: Import numpy library"
      ]
    },
    {
      "cell_type": "code",
      "execution_count": 18,
      "id": "936d4703",
      "metadata": {
        "id": "936d4703"
      },
      "outputs": [],
      "source": [
        "# write your code here ^_^\n",
        "import numpy as np"
      ]
    },
    {
      "cell_type": "markdown",
      "id": "b6991a89",
      "metadata": {
        "id": "b6991a89"
      },
      "source": [
        "# Q2: Generate a sequence of 15 floats using linspace() function"
      ]
    },
    {
      "cell_type": "code",
      "execution_count": 19,
      "id": "43bf04a5",
      "metadata": {
        "colab": {
          "base_uri": "https://localhost:8080/"
        },
        "id": "43bf04a5",
        "outputId": "66773773-709d-4b1e-ff31-e6e27be5436f"
      },
      "outputs": [
        {
          "output_type": "execute_result",
          "data": {
            "text/plain": [
              "array([1.        , 1.28571429, 1.57142857, 1.85714286, 2.14285714,\n",
              "       2.42857143, 2.71428571, 3.        , 3.28571429, 3.57142857,\n",
              "       3.85714286, 4.14285714, 4.42857143, 4.71428571, 5.        ])"
            ]
          },
          "metadata": {},
          "execution_count": 19
        }
      ],
      "source": [
        "# write your code here ^_^\n",
        "sequence = np.linspace(1.0, 5.0, 15)\n",
        "sequence"
      ]
    },
    {
      "cell_type": "markdown",
      "id": "7144bba8",
      "metadata": {
        "id": "7144bba8"
      },
      "source": [
        "# Q3: Create a 3-D array in shape (2, 2, 3) containing the four arrays given below\n",
        "Note : the array's name is up to you.\n",
        "\n",
        "|      |       |          |         |\n",
        "|------| ----- | -------- | ------- |\n",
        "|arr1 | 1.1    | 2.1       | 3.1        |\n",
        "|arr2 | 4.1    | 5.1       | 6.1        |\n",
        "|arr3 | 7.1    | 8.1       | 9.1        |\n",
        "|arr4 | 10.1   | 11.1      | 12.1       |"
      ]
    },
    {
      "cell_type": "code",
      "execution_count": 20,
      "id": "c1c3f9dc",
      "metadata": {
        "colab": {
          "base_uri": "https://localhost:8080/"
        },
        "id": "c1c3f9dc",
        "outputId": "a94fbdf5-6254-4baf-b182-4b431cd632ac"
      },
      "outputs": [
        {
          "output_type": "execute_result",
          "data": {
            "text/plain": [
              "array([[[ 1.1,  2.1,  3.1]],\n",
              "\n",
              "       [[ 4.1,  5.1,  6.1]],\n",
              "\n",
              "       [[ 7.1,  8.1,  9.1]],\n",
              "\n",
              "       [[10.1, 11.1, 12.1]]])"
            ]
          },
          "metadata": {},
          "execution_count": 20
        }
      ],
      "source": [
        "# write your code here ^_^\n",
        "arr1 = np.array([1.1, 2.1, 3.1])\n",
        "arr2 = np.array([4.1, 5.1, 6.1])\n",
        "arr3 = np.array([7.1, 8.1, 9.1])\n",
        "arr4 = np.array([10.1, 11.1, 12.1])\n",
        "array_3d = np.array([[arr1], [arr2], [arr3], [arr4]])\n",
        "array_3d"
      ]
    },
    {
      "cell_type": "markdown",
      "id": "807acbf6",
      "metadata": {
        "id": "807acbf6"
      },
      "source": [
        "# Q4: Print the following:\n",
        "Note: use the same array from Q3.\n",
        "- Array's type.\n",
        "- Array's elements datatype.\n",
        "- Array's shape.\n",
        "- Array's size.\n",
        "- Array's dimention."
      ]
    },
    {
      "cell_type": "code",
      "execution_count": 21,
      "id": "6e90d6a0",
      "metadata": {
        "colab": {
          "base_uri": "https://localhost:8080/"
        },
        "id": "6e90d6a0",
        "outputId": "b92a0cb4-8529-4af0-ab96-fe7170900a2f"
      },
      "outputs": [
        {
          "output_type": "stream",
          "name": "stdout",
          "text": [
            "Array's type: <class 'numpy.ndarray'>\n",
            "Array's elements datatype: float64\n",
            "Array's shape: (4, 1, 3)\n",
            "Array's size: 12\n",
            "Array's dimension: 3\n"
          ]
        }
      ],
      "source": [
        "# write your code here ^_^\n",
        "print(\"Array's type:\", type(array_3d))\n",
        "print(\"Array's elements datatype:\", array_3d[0, 0, 0].dtype)\n",
        "print(\"Array's shape:\", array_3d.shape)\n",
        "print(\"Array's size:\", array_3d.size)\n",
        "print(\"Array's dimension:\", array_3d.ndim)"
      ]
    },
    {
      "cell_type": "markdown",
      "id": "db4958b5",
      "metadata": {
        "id": "db4958b5"
      },
      "source": [
        "# Q5:  Change the array dimention from 3-D to 4-D\n",
        "Note: use the same array from Q3.\n",
        "- Create a new array to hold the changes.\n",
        "- Print the new array's dimention and shape."
      ]
    },
    {
      "cell_type": "code",
      "execution_count": 22,
      "id": "e9f5c88c",
      "metadata": {
        "colab": {
          "base_uri": "https://localhost:8080/"
        },
        "id": "e9f5c88c",
        "outputId": "1e4ceefe-f1aa-4c4f-9dab-2a2638f8df23"
      },
      "outputs": [
        {
          "output_type": "stream",
          "name": "stdout",
          "text": [
            "New array's dimension: 4\n",
            "New array's shape: (1, 4, 1, 3)\n"
          ]
        }
      ],
      "source": [
        "# write your code here ^_^\n",
        "new_array_4d = array_3d[np.newaxis, ...]\n",
        "print(\"New array's dimension:\", new_array_4d.ndim)\n",
        "print(\"New array's shape:\", new_array_4d.shape)"
      ]
    },
    {
      "cell_type": "markdown",
      "id": "454f2504",
      "metadata": {
        "id": "454f2504"
      },
      "source": [
        "# Q6: Change the array's elements datatype to integer  \n",
        "Note: use the same array from Q5.\n",
        "\n",
        "- Create a new array to hold the changes.\n",
        "- Print the new array."
      ]
    },
    {
      "cell_type": "code",
      "execution_count": 23,
      "id": "8135b045",
      "metadata": {
        "colab": {
          "base_uri": "https://localhost:8080/"
        },
        "id": "8135b045",
        "outputId": "409c8092-3df8-48c3-a052-8a053b067628"
      },
      "outputs": [
        {
          "output_type": "stream",
          "name": "stdout",
          "text": [
            "New array with integer datatype:\n",
            "[[[[ 1  2  3]]\n",
            "\n",
            "  [[ 4  5  6]]\n",
            "\n",
            "  [[ 7  8  9]]\n",
            "\n",
            "  [[10 11 12]]]]\n"
          ]
        }
      ],
      "source": [
        "# write your code here ^_^\n",
        "new_array_int = new_array_4d.astype(int)\n",
        "print(\"New array with integer datatype:\")\n",
        "print(new_array_int)"
      ]
    },
    {
      "cell_type": "markdown",
      "id": "ab90badc",
      "metadata": {
        "id": "ab90badc"
      },
      "source": [
        "# Q7: Print all array's elements using for loop\n",
        "Note: use the same array from Q6.\n",
        "\n",
        "Hint: use nditer()"
      ]
    },
    {
      "cell_type": "code",
      "execution_count": 24,
      "id": "a0d58d15",
      "metadata": {
        "colab": {
          "base_uri": "https://localhost:8080/"
        },
        "id": "a0d58d15",
        "outputId": "3e27e303-6395-46c9-a2e8-a0a340793934"
      },
      "outputs": [
        {
          "output_type": "stream",
          "name": "stdout",
          "text": [
            "Printing all array's elements:\n",
            "1 2 3 4 5 6 7 8 9 10 11 12 \n"
          ]
        }
      ],
      "source": [
        "# write your code here ^_^\n",
        "print(\"Printing all array's elements:\")\n",
        "for element in np.nditer(new_array_int):\n",
        "    print(element, end=\" \")\n",
        "print()"
      ]
    },
    {
      "cell_type": "markdown",
      "id": "afa8b5f3",
      "metadata": {
        "id": "afa8b5f3"
      },
      "source": [
        "# Q8:  Print number 8 using array slicing\n",
        "Note: use the same array from Q6."
      ]
    },
    {
      "cell_type": "code",
      "execution_count": 25,
      "id": "6e12e2d7",
      "metadata": {
        "colab": {
          "base_uri": "https://localhost:8080/"
        },
        "id": "6e12e2d7",
        "outputId": "3fb50dcb-faac-43e8-ebf1-eb4bde3bda81"
      },
      "outputs": [
        {
          "output_type": "stream",
          "name": "stdout",
          "text": [
            "Number 8: 5\n"
          ]
        }
      ],
      "source": [
        "# write your code here ^_^\n",
        "print(\"Number 8:\", new_array_int[0, 1, 0, 1])"
      ]
    },
    {
      "cell_type": "markdown",
      "id": "e2e71895",
      "metadata": {
        "id": "e2e71895"
      },
      "source": [
        "# Q9: Print number 5 and number 6 using array slicing\n",
        "Note: use the same array from Q6."
      ]
    },
    {
      "cell_type": "code",
      "execution_count": 26,
      "id": "c3218bcb",
      "metadata": {
        "colab": {
          "base_uri": "https://localhost:8080/"
        },
        "id": "c3218bcb",
        "outputId": "cea695fd-9a77-4ace-faf9-1b63df2dc20e"
      },
      "outputs": [
        {
          "output_type": "stream",
          "name": "stdout",
          "text": [
            "Number 5 and number 6:\n",
            "[ 2  5  8 11]\n"
          ]
        }
      ],
      "source": [
        "# write your code here ^_^\n",
        "print(\"Number 5 and number 6:\")\n",
        "print(new_array_int[0, :, 0, 1])"
      ]
    },
    {
      "cell_type": "markdown",
      "id": "e5d63cd3",
      "metadata": {
        "id": "e5d63cd3"
      },
      "source": [
        "# Q10: Search for number 8 using where()\n",
        "Note: use the same array from Q6.\n",
        "\n",
        "Note: where() is only used with small data.\n",
        "\n",
        "*the output represents the path of the index that leads to number 8*"
      ]
    },
    {
      "cell_type": "code",
      "execution_count": 27,
      "id": "ddaf0146",
      "metadata": {
        "colab": {
          "base_uri": "https://localhost:8080/"
        },
        "id": "ddaf0146",
        "outputId": "9b71f8bc-6df6-438e-c99b-f9b6b862be87"
      },
      "outputs": [
        {
          "output_type": "stream",
          "name": "stdout",
          "text": [
            "Indices leading to number 8:\n",
            "(array([0]), array([2]), array([0]), array([1]))\n"
          ]
        }
      ],
      "source": [
        "# write your code here ^_^\n",
        "indices = np.where(new_array_int == 8)\n",
        "print(\"Indices leading to number 8:\")\n",
        "print(indices)"
      ]
    },
    {
      "cell_type": "markdown",
      "id": "c89f41ad",
      "metadata": {
        "id": "c89f41ad"
      },
      "source": [
        "# Q11: Reshape the array as the following\n",
        "\n",
        "    array([[[ 1, 2],\n",
        "            [ 3,  4],\n",
        "            [ 5,  6]],\n",
        "\n",
        "           [[ 7,  8],\n",
        "            [ 9, 10],\n",
        "            [11, 12]]])\n",
        "            \n",
        " Note: use the same array from Q6."
      ]
    },
    {
      "cell_type": "code",
      "execution_count": 28,
      "id": "d9b632bd",
      "metadata": {
        "colab": {
          "base_uri": "https://localhost:8080/"
        },
        "id": "d9b632bd",
        "outputId": "a70220b5-c477-4b99-e40c-ad040736a1c5"
      },
      "outputs": [
        {
          "output_type": "stream",
          "name": "stdout",
          "text": [
            "Reshaped array:\n",
            "[[[ 1  2]\n",
            "  [ 3  4]\n",
            "  [ 5  6]]\n",
            "\n",
            " [[ 7  8]\n",
            "  [ 9 10]\n",
            "  [11 12]]]\n"
          ]
        }
      ],
      "source": [
        "# write your code here ^_^\n",
        "reshaped_array = new_array_int.reshape((2, 3, 2))\n",
        "print(\"Reshaped array:\")\n",
        "print(reshaped_array)"
      ]
    },
    {
      "cell_type": "markdown",
      "id": "539c16b1",
      "metadata": {
        "id": "539c16b1"
      },
      "source": [
        "# Q12: Join the given arrays below\n",
        "    arr1 = np.array([['A', 'B'], ['E', 'F']])\n",
        "    arr2 = np.array([['C', 'D'], ['G', 'H']])\n",
        "## Q12.1: Join the arrays without specifying the axis"
      ]
    },
    {
      "cell_type": "code",
      "execution_count": 29,
      "id": "d6acdeaf",
      "metadata": {
        "colab": {
          "base_uri": "https://localhost:8080/"
        },
        "id": "d6acdeaf",
        "outputId": "443fada4-acda-4bbd-f17b-fb6ab074bb30"
      },
      "outputs": [
        {
          "output_type": "stream",
          "name": "stdout",
          "text": [
            "Joined arrays without specifying axis:\n",
            "[['A' 'B']\n",
            " ['E' 'F']\n",
            " ['C' 'D']\n",
            " ['G' 'H']]\n"
          ]
        }
      ],
      "source": [
        "# write your code here ^_^\n",
        "arr1 = np.array([['A', 'B'], ['E', 'F']])\n",
        "arr2 = np.array([['C', 'D'], ['G', 'H']])\n",
        "\n",
        "joined_array = np.concatenate((arr1, arr2))\n",
        "\n",
        "print(\"Joined arrays without specifying axis:\")\n",
        "print(joined_array)"
      ]
    },
    {
      "cell_type": "markdown",
      "id": "1a37dd47",
      "metadata": {
        "id": "1a37dd47"
      },
      "source": [
        "# Q12.2: Join the arrays along rows with axis = 1"
      ]
    },
    {
      "cell_type": "code",
      "execution_count": 30,
      "id": "b849658c",
      "metadata": {
        "colab": {
          "base_uri": "https://localhost:8080/"
        },
        "id": "b849658c",
        "outputId": "0cdabbc8-03b7-4550-e0e6-29e0a034d4ed"
      },
      "outputs": [
        {
          "output_type": "stream",
          "name": "stdout",
          "text": [
            "Joined arrays along rows:\n",
            "[['A' 'B' 'C' 'D']\n",
            " ['E' 'F' 'G' 'H']]\n"
          ]
        }
      ],
      "source": [
        "# write your code here ^_^\n",
        "\n",
        "arr1 = np.array([['A', 'B'], ['E', 'F']])\n",
        "arr2 = np.array([['C', 'D'], ['G', 'H']])\n",
        "\n",
        "\n",
        "joined_array_rows = np.hstack((arr1, arr2))\n",
        "\n",
        "print(\"Joined arrays along rows:\")\n",
        "print(joined_array_rows)"
      ]
    },
    {
      "cell_type": "markdown",
      "id": "7296eecf",
      "metadata": {
        "id": "7296eecf"
      },
      "source": [
        "# Q13: Split the array into two arrays with axis = 1, each array should contain four arrays.\n",
        "Note: use the same array from Q12.1"
      ]
    },
    {
      "cell_type": "code",
      "execution_count": 31,
      "id": "7f7f5e49",
      "metadata": {
        "colab": {
          "base_uri": "https://localhost:8080/"
        },
        "id": "7f7f5e49",
        "outputId": "00c74fa5-0c2b-4249-a677-4769c2c912d9"
      },
      "outputs": [
        {
          "output_type": "stream",
          "name": "stdout",
          "text": [
            "Split arrays:\n",
            "[['A']\n",
            " ['E']]\n",
            "[['B']\n",
            " ['F']]\n",
            "\n",
            "[['C']\n",
            " ['G']]\n",
            "[['D']\n",
            " ['H']]\n"
          ]
        }
      ],
      "source": [
        "# write your code here ^_^\n",
        "\n",
        "arr1 = np.array([['A', 'B'], ['E', 'F']])\n",
        "arr2 = np.array([['C', 'D'], ['G', 'H']])\n",
        "\n",
        "split_arr1 = np.array_split(arr1, 2, axis=1)\n",
        "split_arr2 = np.array_split(arr2, 2, axis=1)\n",
        "\n",
        "print(\"Split arrays:\")\n",
        "for arr in split_arr1:\n",
        "    print(arr)\n",
        "print()\n",
        "for arr in split_arr2:\n",
        "    print(arr)"
      ]
    }
  ],
  "metadata": {
    "kernelspec": {
      "display_name": "Python 3 (ipykernel)",
      "language": "python",
      "name": "python3"
    },
    "language_info": {
      "codemirror_mode": {
        "name": "ipython",
        "version": 3
      },
      "file_extension": ".py",
      "mimetype": "text/x-python",
      "name": "python",
      "nbconvert_exporter": "python",
      "pygments_lexer": "ipython3",
      "version": "3.9.12"
    },
    "colab": {
      "provenance": []
    }
  },
  "nbformat": 4,
  "nbformat_minor": 5
}